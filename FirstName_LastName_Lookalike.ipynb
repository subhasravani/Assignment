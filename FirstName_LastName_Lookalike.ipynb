{
  "nbformat": 4,
  "nbformat_minor": 0,
  "metadata": {
    "colab": {
      "provenance": []
    },
    "kernelspec": {
      "name": "python3",
      "display_name": "Python 3"
    },
    "language_info": {
      "name": "python"
    }
  },
  "cells": [
    {
      "cell_type": "markdown",
      "source": [
        "**1: Data Preparation**"
      ],
      "metadata": {
        "id": "Df_5FOqC5uha"
      }
    },
    {
      "cell_type": "markdown",
      "source": [
        "**Step 1.1: Load the Data**\n",
        "\n",
        "Load the Customers.csv, Products.csv, and Transactions.csv datasets and checking for null values."
      ],
      "metadata": {
        "id": "3nPRWBzb-aq6"
      }
    },
    {
      "cell_type": "code",
      "execution_count": 22,
      "metadata": {
        "id": "2O_VVWkbaX32",
        "colab": {
          "base_uri": "https://localhost:8080/",
          "height": 304
        },
        "outputId": "ca238cd4-de4d-4201-f716-63ddd3674a9c"
      },
      "outputs": [
        {
          "output_type": "execute_result",
          "data": {
            "text/plain": [
              "TransactionID      0\n",
              "CustomerID         0\n",
              "ProductID          0\n",
              "TransactionDate    0\n",
              "Quantity           0\n",
              "TotalValue         0\n",
              "Price              0\n",
              "dtype: int64"
            ],
            "text/html": [
              "<div>\n",
              "<style scoped>\n",
              "    .dataframe tbody tr th:only-of-type {\n",
              "        vertical-align: middle;\n",
              "    }\n",
              "\n",
              "    .dataframe tbody tr th {\n",
              "        vertical-align: top;\n",
              "    }\n",
              "\n",
              "    .dataframe thead th {\n",
              "        text-align: right;\n",
              "    }\n",
              "</style>\n",
              "<table border=\"1\" class=\"dataframe\">\n",
              "  <thead>\n",
              "    <tr style=\"text-align: right;\">\n",
              "      <th></th>\n",
              "      <th>0</th>\n",
              "    </tr>\n",
              "  </thead>\n",
              "  <tbody>\n",
              "    <tr>\n",
              "      <th>TransactionID</th>\n",
              "      <td>0</td>\n",
              "    </tr>\n",
              "    <tr>\n",
              "      <th>CustomerID</th>\n",
              "      <td>0</td>\n",
              "    </tr>\n",
              "    <tr>\n",
              "      <th>ProductID</th>\n",
              "      <td>0</td>\n",
              "    </tr>\n",
              "    <tr>\n",
              "      <th>TransactionDate</th>\n",
              "      <td>0</td>\n",
              "    </tr>\n",
              "    <tr>\n",
              "      <th>Quantity</th>\n",
              "      <td>0</td>\n",
              "    </tr>\n",
              "    <tr>\n",
              "      <th>TotalValue</th>\n",
              "      <td>0</td>\n",
              "    </tr>\n",
              "    <tr>\n",
              "      <th>Price</th>\n",
              "      <td>0</td>\n",
              "    </tr>\n",
              "  </tbody>\n",
              "</table>\n",
              "</div><br><label><b>dtype:</b> int64</label>"
            ]
          },
          "metadata": {},
          "execution_count": 22
        }
      ],
      "source": [
        "import pandas as pd\n",
        "\n",
        "# Load the datasets\n",
        "customers = pd.read_csv('/content/Customers.csv')\n",
        "products = pd.read_csv('/content/Products.csv')\n",
        "transactions = pd.read_csv('/content/Transactions.csv')\n",
        "\n",
        "# Check for missing values and handle them\n",
        "customers.isnull().sum()\n",
        "products.isnull().sum()\n",
        "transactions.isnull().sum()\n",
        "\n",
        "\n"
      ]
    },
    {
      "cell_type": "markdown",
      "source": [
        "**Step 1.2: Merge the Datasets**"
      ],
      "metadata": {
        "id": "8eTX1Z4D-rO6"
      }
    },
    {
      "cell_type": "code",
      "source": [
        "# Convert date columns to datetime\n",
        "customers['SignupDate'] = pd.to_datetime(customers['SignupDate'])\n",
        "transactions['TransactionDate'] = pd.to_datetime(transactions['TransactionDate'])\n",
        "\n",
        "# Merge datasets\n",
        "data = pd.merge(transactions, customers, on='CustomerID')\n",
        "data = pd.merge(data, products, on='ProductID')\n"
      ],
      "metadata": {
        "id": "Jn4RR3Ys9THc"
      },
      "execution_count": 23,
      "outputs": []
    },
    {
      "cell_type": "markdown",
      "source": [
        "**2. Feature Engineering**"
      ],
      "metadata": {
        "id": "jbggtBej-7oa"
      }
    },
    {
      "cell_type": "markdown",
      "source": [
        "**Step 2.1: Create a Pivot Table**"
      ],
      "metadata": {
        "id": "r-v_IEXW-9Nd"
      }
    },
    {
      "cell_type": "code",
      "source": [
        "# Create a pivot table for customer-product interactions\n",
        "customer_product_matrix = data.pivot_table(index='CustomerID', columns='ProductID', values='Quantity', aggfunc='sum', fill_value=0)\n"
      ],
      "metadata": {
        "id": "5HjfJPww_B_6"
      },
      "execution_count": 24,
      "outputs": []
    },
    {
      "cell_type": "markdown",
      "source": [
        "**Step 2.2: Normalize the Data**"
      ],
      "metadata": {
        "id": "UNv26jUf_Sjz"
      }
    },
    {
      "cell_type": "code",
      "source": [
        "# Normalize the matrix for similarity calculation\n",
        "normalized_matrix = customer_product_matrix.apply(lambda x: (x - x.mean()) / (x.std()), axis=1)\n"
      ],
      "metadata": {
        "id": "qcHu9uKT_Dqg"
      },
      "execution_count": 25,
      "outputs": []
    },
    {
      "cell_type": "markdown",
      "source": [
        "**3. Similarity Calculation**"
      ],
      "metadata": {
        "id": "zNX0r_vt_gk4"
      }
    },
    {
      "cell_type": "markdown",
      "source": [
        "**Step 3.1: Calculate Cosine Similarity**\n",
        "\n"
      ],
      "metadata": {
        "id": "ZlO5TneH_kQw"
      }
    },
    {
      "cell_type": "code",
      "source": [
        "from sklearn.metrics.pairwise import cosine_similarity\n",
        "\n",
        "# Compute cosine similarity\n",
        "similarity_matrix = cosine_similarity(normalized_matrix)\n",
        "similarity_df = pd.DataFrame(similarity_matrix, index=customer_product_matrix.index, columns=customer_product_matrix.index)\n"
      ],
      "metadata": {
        "id": "iDEhBu_f_djP"
      },
      "execution_count": 26,
      "outputs": []
    },
    {
      "cell_type": "markdown",
      "source": [
        "**4. Identifying Lookalikes**"
      ],
      "metadata": {
        "id": "95_QFAVJ_udJ"
      }
    },
    {
      "cell_type": "markdown",
      "source": [
        "**Step 4.1: Identify Top 3 Lookalikes**"
      ],
      "metadata": {
        "id": "PoVELv3-_wmV"
      }
    },
    {
      "cell_type": "code",
      "source": [
        "lookalikes = {}\n",
        "\n",
        "for customer_id in customers['CustomerID'][:20]:\n",
        "    scores = similarity_df.loc[customer_id].sort_values(ascending=False)\n",
        "    top_3_lookalikes = scores.index[1:4]\n",
        "    top_3_scores = scores.iloc[1:4]\n",
        "    lookalikes[customer_id] = list(zip(top_3_lookalikes, top_3_scores))\n",
        "\n",
        "# Convert to DataFrame\n",
        "lookalikes_list = []\n",
        "for customer_id, similar_customers in lookalikes.items():\n",
        "    for lookalike_id, score in similar_customers:\n",
        "        lookalikes_list.append([customer_id, lookalike_id, score])\n",
        "\n",
        "lookalikes_df = pd.DataFrame(lookalikes_list, columns=['CustomerID', 'LookalikeID', 'Score'])\n",
        "print(lookalikes_df)\n",
        "\n",
        "# Save results to CSV\n",
        "lookalikes_df.to_csv('FirstName_LastName_Lookalike.csv', index=False)\n"
      ],
      "metadata": {
        "colab": {
          "base_uri": "https://localhost:8080/"
        },
        "id": "rB_4mVPH_rZR",
        "outputId": "865def29-91af-4efc-edce-75a9419f0953"
      },
      "execution_count": 27,
      "outputs": [
        {
          "output_type": "stream",
          "name": "stdout",
          "text": [
            "   CustomerID LookalikeID     Score\n",
            "0       C0001       C0097  0.541621\n",
            "1       C0001       C0194  0.440331\n",
            "2       C0001       C0199  0.415457\n",
            "3       C0002       C0030  0.346540\n",
            "4       C0002       C0071  0.310212\n",
            "5       C0002       C0091  0.305070\n",
            "6       C0003       C0134  0.499152\n",
            "7       C0003       C0181  0.494970\n",
            "8       C0003       C0144  0.383366\n",
            "9       C0004       C0070  0.474671\n",
            "10      C0004       C0132  0.423053\n",
            "11      C0004       C0063  0.317523\n",
            "12      C0005       C0096  0.635617\n",
            "13      C0005       C0055  0.496837\n",
            "14      C0005       C0064  0.309776\n",
            "15      C0006       C0058  0.644928\n",
            "16      C0006       C0040  0.622315\n",
            "17      C0006       C0178  0.352900\n",
            "18      C0007       C0020  0.582761\n",
            "19      C0007       C0079  0.480955\n",
            "20      C0007       C0026  0.344227\n",
            "21      C0008       C0144  0.371154\n",
            "22      C0008       C0088  0.300965\n",
            "23      C0008       C0003  0.274885\n",
            "24      C0009       C0140  0.551451\n",
            "25      C0009       C0162  0.492628\n",
            "26      C0009       C0062  0.483112\n",
            "27      C0010       C0033  0.478709\n",
            "28      C0010       C0077  0.407548\n",
            "29      C0010       C0094  0.383390\n",
            "30      C0011       C0135  0.463151\n",
            "31      C0011       C0120  0.333940\n",
            "32      C0011       C0173  0.293156\n",
            "33      C0012       C0164  0.428440\n",
            "34      C0012       C0052  0.389913\n",
            "35      C0012       C0173  0.319476\n",
            "36      C0013       C0058  0.528559\n",
            "37      C0013       C0040  0.507946\n",
            "38      C0013       C0169  0.407364\n",
            "39      C0014       C0128  0.893527\n",
            "40      C0014       C0159  0.782337\n",
            "41      C0014       C0136  0.453367\n",
            "42      C0015       C0073  0.625067\n",
            "43      C0015       C0036  0.598717\n",
            "44      C0015       C0059  0.442674\n",
            "45      C0016       C0187  0.631155\n",
            "46      C0016       C0064  0.440157\n",
            "47      C0016       C0145  0.368035\n",
            "48      C0017       C0037  0.363894\n",
            "49      C0017       C0071  0.361457\n",
            "50      C0017       C0183  0.308628\n",
            "51      C0018       C0177  0.369062\n",
            "52      C0018       C0132  0.333190\n",
            "53      C0018       C0064  0.327194\n",
            "54      C0019       C0083  0.471706\n",
            "55      C0019       C0064  0.464766\n",
            "56      C0019       C0039  0.435957\n",
            "57      C0020       C0026  0.612301\n",
            "58      C0020       C0007  0.582761\n",
            "59      C0020       C0104  0.481470\n"
          ]
        }
      ]
    }
  ]
}